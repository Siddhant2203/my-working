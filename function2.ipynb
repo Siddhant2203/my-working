{
 "cells": [
  {
   "cell_type": "markdown",
   "metadata": {},
   "source": [
    "# function"
   ]
  },
  {
   "cell_type": "code",
   "execution_count": 4,
   "metadata": {},
   "outputs": [
    {
     "name": "stdout",
     "output_type": "stream",
     "text": [
      "55\n"
     ]
    }
   ],
   "source": [
    "# Write a recursive function to calculate the sum of numbers from 0 to 10\n",
    "\n",
    "def cal_sum(num):\n",
    "    if num:\n",
    "        return num + cal_sum(num-1)\n",
    "    else:\n",
    "        return 0\n",
    "    \n",
    "res = cal_sum(10)\n",
    "print(res)"
   ]
  },
  {
   "cell_type": "code",
   "execution_count": 7,
   "metadata": {},
   "outputs": [
    {
     "name": "stdout",
     "output_type": "stream",
     "text": [
      "Enter a name:Megha\n",
      "Enter age:22\n",
      "Name is:  Megha and age is:  22\n"
     ]
    }
   ],
   "source": [
    "# Assign a different name to function and call it through the new name\n",
    "\n",
    "def display_stud(name,age):\n",
    "    print(\"Name is: \",name, \"and age is: \",age)\n",
    "    \n",
    "name = input(\"Enter a name:\")\n",
    "age = int(input(\"Enter age:\"))\n",
    "\n",
    "show_stud = display_stud\n",
    "\n",
    "show_stud(name,age)"
   ]
  },
  {
   "cell_type": "code",
   "execution_count": null,
   "metadata": {},
   "outputs": [],
   "source": [
    "# Generate a Python list of all the even numbers between 4 to 30\n",
    "\n",
    "lst = []\n",
    "\n",
    "def get_even():\n",
    "    "
   ]
  }
 ],
 "metadata": {
  "kernelspec": {
   "display_name": "Python 3",
   "language": "python",
   "name": "python3"
  },
  "language_info": {
   "codemirror_mode": {
    "name": "ipython",
    "version": 3
   },
   "file_extension": ".py",
   "mimetype": "text/x-python",
   "name": "python",
   "nbconvert_exporter": "python",
   "pygments_lexer": "ipython3",
   "version": "3.8.5"
  }
 },
 "nbformat": 4,
 "nbformat_minor": 4
}
