{
 "cells": [
  {
   "cell_type": "markdown",
   "metadata": {},
   "source": [
    "Given an integer, , perform the following conditional actions:\n",
    "\n",
    "If  is odd, print Weird\n",
    "\n",
    "If  is even and in the inclusive range of  2 to 5 , print Not Weird\n",
    "\n",
    "If  is even and in the inclusive range of  6 to 20 , print Weird\n",
    "\n",
    "If  is even and greater than 20 , print Not Weird"
   ]
  },
  {
   "cell_type": "code",
   "execution_count": 10,
   "metadata": {},
   "outputs": [
    {
     "name": "stdout",
     "output_type": "stream",
     "text": [
      "Enter a number:-23\n",
      "Sorry, wrong input\n"
     ]
    }
   ],
   "source": [
    "n = int(input(\"Enter a number:\"))\n",
    "\n",
    "if n%2 != 0 and n>0:\n",
    "    print(\"Weird\")\n",
    "elif n%2 ==0:\n",
    "    if n in range(2,6):\n",
    "        print(\"Not Weird\")\n",
    "    elif n in range(6,21):\n",
    "        print(\"Weird\")\n",
    "    elif n>20:\n",
    "        print(\"Not Weird\")\n",
    "    else:\n",
    "        print(\"Invalid input\")\n",
    "else:\n",
    "    print(\"Sorry, wrong input\")"
   ]
  },
  {
   "cell_type": "markdown",
   "metadata": {},
   "source": [
    "The provided code stub reads two integers from STDIN,  a and b. Add code to print three lines where:\n",
    "\n",
    "- The first line contains the sum of the two numbers.\n",
    "\n",
    "- The second line contains the difference of the two numbers (first - second).\n",
    "\n",
    "- The third line contains the product of the two numbers."
   ]
  },
  {
   "cell_type": "code",
   "execution_count": 19,
   "metadata": {},
   "outputs": [
    {
     "name": "stdout",
     "output_type": "stream",
     "text": [
      "Enter two numbers:3 5\n",
      "Addition: 8 Subtraction: -2 Product: 15\n"
     ]
    }
   ],
   "source": [
    "A,B =input(\"Enter two numbers:\").split(\" \")\n",
    "\n",
    "a = int(A)\n",
    "b= int(B)\n",
    "\n",
    "add = a+b\n",
    "sub = a-b\n",
    "mul = a*b\n",
    "\n",
    "print(\"Addition:\" ,add, \"Subtraction:\",sub, \"Product:\",mul)"
   ]
  },
  {
   "cell_type": "markdown",
   "metadata": {},
   "source": [
    "The provided code stub reads two integers,  and , from STDIN.\n",
    "\n",
    "- Add logic to print two lines. \n",
    "\n",
    "- The first line should contain the result of integer division,  a//b . \n",
    "\n",
    "- The second line should contain the result of float division,  a/b .\n",
    "\n",
    "No rounding or formatting is necessary."
   ]
  },
  {
   "cell_type": "code",
   "execution_count": 20,
   "metadata": {},
   "outputs": [
    {
     "name": "stdout",
     "output_type": "stream",
     "text": [
      "Enter two numbers:4 5\n",
      "Integer Division: 0 Float Division: 0.8\n"
     ]
    }
   ],
   "source": [
    "A,B =input(\"Enter two numbers:\").split(\" \")\n",
    "\n",
    "a = int(A)\n",
    "b= int(B)\n",
    "\n",
    "int_div = a//b\n",
    "flo_div = a/b\n",
    "\n",
    "print(\"Integer Division:\",int_div,\"Float Division:\",flo_div)"
   ]
  },
  {
   "cell_type": "markdown",
   "metadata": {},
   "source": [
    "Task\n",
    "\n",
    "The provided code stub reads and integer,n , from STDIN. For all non-negative integers i < n, print i^2.\n",
    "\n",
    "Example\n",
    "\n",
    "n = 3\n",
    "\n",
    "The list of non-negative integers that are less than  n=3 is [0,1,2] . Print the square of each number on a separate line."
   ]
  },
  {
   "cell_type": "code",
   "execution_count": 27,
   "metadata": {},
   "outputs": [
    {
     "name": "stdout",
     "output_type": "stream",
     "text": [
      "Enter a number upto which you want to print square:3\n",
      "0\n",
      "1\n",
      "4\n",
      "9\n"
     ]
    }
   ],
   "source": [
    "n = int(input(\"Enter a number upto which you want to print square:\"))\n",
    "\n",
    "for i in range(0,n+1):\n",
    "        print(i**2)"
   ]
  },
  {
   "cell_type": "markdown",
   "metadata": {},
   "source": [
    "Given a year, determine whether it is a leap year. If it is a leap year, return the Boolean True, otherwise return False.\n",
    "\n",
    "- Note that the code stub provided reads from STDIN and passes arguments to the is_leap function. \n",
    "\n",
    "- It is only necessary to complete the is_leap function."
   ]
  },
  {
   "cell_type": "code",
   "execution_count": 41,
   "metadata": {},
   "outputs": [
    {
     "name": "stdout",
     "output_type": "stream",
     "text": [
      "Enter the year you want check as leap year or not:1990\n"
     ]
    },
    {
     "data": {
      "text/plain": [
       "False"
      ]
     },
     "execution_count": 41,
     "metadata": {},
     "output_type": "execute_result"
    }
   ],
   "source": [
    "def is_leap(n):\n",
    "    if n%4 == 0 and (n%400 == 0 or n%100 != 0):\n",
    "        return True\n",
    "    return False\n",
    "\n",
    "n = int(input(\"Enter the year you want check as leap year or not:\"))\n",
    "is_leap(n)"
   ]
  },
  {
   "cell_type": "code",
   "execution_count": null,
   "metadata": {},
   "outputs": [],
   "source": []
  }
 ],
 "metadata": {
  "kernelspec": {
   "display_name": "Python 3",
   "language": "python",
   "name": "python3"
  },
  "language_info": {
   "codemirror_mode": {
    "name": "ipython",
    "version": 3
   },
   "file_extension": ".py",
   "mimetype": "text/x-python",
   "name": "python",
   "nbconvert_exporter": "python",
   "pygments_lexer": "ipython3",
   "version": "3.8.5"
  }
 },
 "nbformat": 4,
 "nbformat_minor": 4
}
