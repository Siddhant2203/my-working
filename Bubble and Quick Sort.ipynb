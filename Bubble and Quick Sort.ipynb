{
 "cells": [
  {
   "cell_type": "markdown",
   "metadata": {},
   "source": [
    "# Bubble Sort"
   ]
  },
  {
   "cell_type": "code",
   "execution_count": 6,
   "metadata": {},
   "outputs": [
    {
     "name": "stdout",
     "output_type": "stream",
     "text": [
      "[1, 2, 5, 9, 34, 34, 67, 88]\n",
      "[1, 2, 2, 3, 4]\n",
      "['aamir', 'chang', 'dhaval', 'mona', 'tina']\n"
     ]
    }
   ],
   "source": [
    "def bubble_sort(elements):\n",
    "    size = len(elements)\n",
    "    \n",
    "    for i in range(size-1):\n",
    "        swapped = False\n",
    "        for j in range(size-1-i):\n",
    "            if elements[j] > elements[j+1]:\n",
    "                temp = elements[j]\n",
    "                elements[j] = elements[j+1]\n",
    "                elements[j+1] = temp\n",
    "                swapped = True\n",
    "        if not swapped:\n",
    "            break\n",
    "        \n",
    "if __name__ ==\"__main__\":\n",
    "    elements1 = [5,9,2,1,67,34,88,34]\n",
    "    elements2 = [1,2,3,4,2]\n",
    "    elements3 = [\"mona\", \"dhaval\", \"aamir\", \"tina\", \"chang\"]\n",
    "\n",
    "    bubble_sort(elements1)\n",
    "    print(elements1)\n",
    "    \n",
    "    \n",
    "    bubble_sort(elements2)\n",
    "    print(elements2)\n",
    "    \n",
    "    \n",
    "    bubble_sort(elements3)\n",
    "    print(elements3)"
   ]
  },
  {
   "cell_type": "markdown",
   "metadata": {},
   "source": [
    "# Quick Sort"
   ]
  },
  {
   "cell_type": "code",
   "execution_count": 7,
   "metadata": {},
   "outputs": [
    {
     "name": "stdout",
     "output_type": "stream",
     "text": [
      "[2, 7, 9, 11, 15, 28, 29]\n",
      "['aamir', 'chang', 'dhaval', 'mona', 'tina']\n"
     ]
    }
   ],
   "source": [
    "def swap(a, b, arr):\n",
    "    if a!=b:\n",
    "        tmp = arr[a]\n",
    "        arr[a] = arr[b]\n",
    "        arr[b] = tmp\n",
    "\n",
    "def quicksort(elements, start, end):\n",
    "    if start < end:\n",
    "        pi = partition(elements, start, end)\n",
    "        quicksort(elements, start, pi-1)\n",
    "        quicksort(elements, pi+1, end)\n",
    "\n",
    "def partition(elements, start, end):\n",
    "    pivot_index = start\n",
    "    pivot = elements[pivot_index]\n",
    "\n",
    "    while start < end:\n",
    "        while start < len(elements) and elements[start] <= pivot:\n",
    "            start+=1\n",
    "\n",
    "        while elements[end] > pivot:\n",
    "            end-=1\n",
    "\n",
    "        if start < end:\n",
    "            swap(start, end, elements)\n",
    "\n",
    "    swap(pivot_index, end, elements)\n",
    "\n",
    "    return end\n",
    "\n",
    "\n",
    "if __name__ == '__main__':\n",
    "    elements = [11,9,29,7,2,15,28]\n",
    "    \n",
    "    quick_sort(elements, 0, len(elements)-1)\n",
    "    print(elements)\n",
    "    \n",
    "    elements1 = [\"mona\", \"dhaval\", \"aamir\", \"tina\", \"chang\"]\n",
    "     \n",
    "    quick_sort(elements1, 0, len(elements1)-1)\n",
    "    print(elements1)"
   ]
  },
  {
   "cell_type": "code",
   "execution_count": null,
   "metadata": {},
   "outputs": [],
   "source": []
  }
 ],
 "metadata": {
  "kernelspec": {
   "display_name": "Python 3",
   "language": "python",
   "name": "python3"
  }
 },
 "nbformat": 4,
 "nbformat_minor": 4
}
