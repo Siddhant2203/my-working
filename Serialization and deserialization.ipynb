{
 "cells": [
  {
   "cell_type": "markdown",
   "metadata": {},
   "source": [
    "# Serialization"
   ]
  },
  {
   "cell_type": "code",
   "execution_count": 5,
   "metadata": {},
   "outputs": [
    {
     "name": "stdout",
     "output_type": "stream",
     "text": [
      "b'\\x80\\x04\\x95G\\x00\\x00\\x00\\x00\\x00\\x00\\x00}\\x94(\\x8c\\nfirst_name\\x94\\x8c\\x06Shakti\\x94\\x8c\\x0bmiddle_name\\x94\\x8c\\x05Singh\\x94\\x8c\\tlast_name\\x94\\x8c\\x07Rajawat\\x94u.'\n"
     ]
    }
   ],
   "source": [
    "import pickle\n",
    "\n",
    "name = {'first_name':'Shakti','middle_name':'Singh','last_name':'Rajawat'}\n",
    "serial_name = pickle.dumps(name)\n",
    "print(serial_name)"
   ]
  },
  {
   "cell_type": "markdown",
   "metadata": {},
   "source": [
    "# Deserialization"
   ]
  },
  {
   "cell_type": "code",
   "execution_count": 6,
   "metadata": {},
   "outputs": [
    {
     "name": "stdout",
     "output_type": "stream",
     "text": [
      "{'first_name': 'Shakti', 'middle_name': 'Singh', 'last_name': 'Rajawat'}\n"
     ]
    }
   ],
   "source": [
    "recieved_name = pickle.loads(serial_name)\n",
    "print(recieved_name)"
   ]
  }
 ],
 "metadata": {
  "kernelspec": {
   "display_name": "Python 3",
   "language": "python",
   "name": "python3"
  },
  "language_info": {
   "codemirror_mode": {
    "name": "ipython",
    "version": 3
   },
   "file_extension": ".py",
   "mimetype": "text/x-python",
   "name": "python",
   "nbconvert_exporter": "python",
   "pygments_lexer": "ipython3",
   "version": "3.8.5"
  }
 },
 "nbformat": 4,
 "nbformat_minor": 4
}
