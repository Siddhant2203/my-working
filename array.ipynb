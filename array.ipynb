{
 "cells": [
  {
   "cell_type": "markdown",
   "metadata": {},
   "source": [
    "# Exercise: Array DataStructure"
   ]
  },
  {
   "cell_type": "markdown",
   "metadata": {},
   "source": [
    "QUESTION 1\n",
    "\n",
    "Let us say your expense for every month are listed below,\n",
    "\n",
    "January - 2200\n",
    "February - 2350\n",
    "March - 2600\n",
    "April - 2130\n",
    "May - 2190\n"
   ]
  },
  {
   "cell_type": "code",
   "execution_count": 30,
   "metadata": {},
   "outputs": [
    {
     "data": {
      "text/plain": [
       "[2200, 2350, 2600, 2130, 2190]"
      ]
     },
     "execution_count": 30,
     "metadata": {},
     "output_type": "execute_result"
    }
   ],
   "source": [
    "#Create a list to store these monthly expenses and using that find out\n",
    "#monthly expense of January,February,March,April,May respectively\n",
    "\n",
    "expense = [2200,2350,2600,2130,2190]\n",
    "expense"
   ]
  },
  {
   "cell_type": "code",
   "execution_count": 31,
   "metadata": {},
   "outputs": [
    {
     "name": "stdout",
     "output_type": "stream",
     "text": [
      "150\n",
      "7150\n",
      "False\n",
      "False\n",
      "False\n",
      "False\n",
      "False\n",
      "After end of june,total expenses are [2200, 2350, 2600, 2130, 2190, 1980]\n"
     ]
    }
   ],
   "source": [
    "#1. In Feb, how many dollars you spent extra compare to January?\n",
    "\n",
    "extra_expense = expense[1] - expense[0]\n",
    "print(extra_expense)\n",
    "\n",
    "#2. Find out your total expense in first quarter (first three months) of the year.\n",
    "\n",
    "quarter_expense = expense[0] + expense[1] + expense[2]\n",
    "print(quarter_expense)\n",
    "\n",
    "#3. Find out if you spent exactly 2000 dollars in any month\n",
    "\n",
    "for i in expense:\n",
    "    if i==2000:\n",
    "        print(True)\n",
    "    else:\n",
    "        print(False)\n",
    "\n",
    "#4. June month just finished and your expense is 1980 dollar. Add this item to our monthly expense list\n",
    "\n",
    "expense.append(1980)\n",
    "print(\"After end of june,total expenses are\",expense)"
   ]
  },
  {
   "cell_type": "code",
   "execution_count": 32,
   "metadata": {},
   "outputs": [
    {
     "name": "stdout",
     "output_type": "stream",
     "text": [
      "New expense after returning 200$ in april: [2200, 2350, 2600, 1930, 2190, 1980]\n"
     ]
    }
   ],
   "source": [
    "#5. You returned an item that you bought in a month of April and got a refund of 200$. Make a correction to your monthly expense list based on this\n",
    "\n",
    "expense[3] = expense[3] - 200\n",
    "print(\"New expense after returning 200$ in april:\",expense)"
   ]
  },
  {
   "cell_type": "markdown",
   "metadata": {},
   "source": [
    "QUESTION 2\n",
    "\n",
    "You have a list of your favourite marvel super heros.\n",
    "\n",
    "heros=['spider man','thor','hulk','iron man','captain america']\n",
    "\n",
    "Using this find out"
   ]
  },
  {
   "cell_type": "code",
   "execution_count": 47,
   "metadata": {},
   "outputs": [
    {
     "name": "stdout",
     "output_type": "stream",
     "text": [
      "['spider man', 'thor', 'hulk', 'iron man', 'captain america']\n"
     ]
    }
   ],
   "source": [
    "heros = ['spider man','thor','hulk','iron man','captain america']\n",
    "print(heros)"
   ]
  },
  {
   "cell_type": "code",
   "execution_count": 48,
   "metadata": {},
   "outputs": [
    {
     "name": "stdout",
     "output_type": "stream",
     "text": [
      "5\n",
      "['spider man', 'thor', 'hulk', 'iron man', 'captain america', 'black panther']\n"
     ]
    }
   ],
   "source": [
    "# 1. Length of the list\n",
    "\n",
    "print(len(heros))\n",
    "\n",
    "# 2. Add 'black panther' at the end of this list\n",
    "\n",
    "heros.append('black panther')\n",
    "print(heros)"
   ]
  },
  {
   "cell_type": "code",
   "execution_count": 50,
   "metadata": {},
   "outputs": [
    {
     "name": "stdout",
     "output_type": "stream",
     "text": [
      "['spider man', 'doctor strange', 'iron man', 'black panther', 'captain america']\n",
      "['spider man', 'doctor strange', 'black panther', 'captain america']\n",
      "['black panther', 'captain america', 'doctor strange', 'spider man']\n"
     ]
    }
   ],
   "source": [
    "# 3. You realize that you need to add 'black panther' after 'hulk', so remove it from the list first and then add it after 'hulk'\n",
    "\n",
    "heros.remove('black panther')\n",
    "heros.insert(3,'black panther')\n",
    "print(heros)\n",
    "\n",
    "# 4. Now you don't like thor and hulk because they get angry easily :) So you want to remove thor and hulk from list and replace them with doctor strange (because he is cool). Do that with one line of code.\n",
    "\n",
    "heros[1:3] = ['doctor strange']\n",
    "print(heros)\n",
    "# 5. Sort the heros list in alphabetical order (Hint. Use dir() functions to list down all functions available in list)\n",
    "heros.sort()\n",
    "print(heros)"
   ]
  },
  {
   "cell_type": "markdown",
   "metadata": {},
   "source": [
    "QUESTION 3\n",
    "\n",
    "Create a list of all odd numbers between 1 and a max number. Max number is something you need to take from a user using input() function"
   ]
  },
  {
   "cell_type": "code",
   "execution_count": 54,
   "metadata": {},
   "outputs": [
    {
     "name": "stdout",
     "output_type": "stream",
     "text": [
      "Enter a number till where you want to print odd numbers:9\n",
      "[1, 3, 5, 7]\n"
     ]
    }
   ],
   "source": [
    "n = int(input(\"Enter a number till where you want to print odd numbers:\"))\n",
    "\n",
    "odd_numbers = []\n",
    "for i in range(n):\n",
    "    if i%2 ==1:\n",
    "        odd_numbers.append(i)\n",
    "\n",
    "print(odd_numbers)"
   ]
  },
  {
   "cell_type": "markdown",
   "metadata": {},
   "source": [
    "# THANK YOU"
   ]
  }
 ],
 "metadata": {
  "kernelspec": {
   "display_name": "Python 3",
   "language": "python",
   "name": "python3"
  },
  "language_info": {
   "codemirror_mode": {
    "name": "ipython",
    "version": 3
   },
   "file_extension": ".py",
   "mimetype": "text/x-python",
   "name": "python",
   "nbconvert_exporter": "python",
   "pygments_lexer": "ipython3",
   "version": "3.8.5"
  }
 },
 "nbformat": 4,
 "nbformat_minor": 4
}
