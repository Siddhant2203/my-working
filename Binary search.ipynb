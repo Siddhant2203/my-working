{
 "cells": [
  {
   "cell_type": "markdown",
   "metadata": {},
   "source": [
    "# Binary Search"
   ]
  },
  {
   "cell_type": "code",
   "execution_count": 4,
   "metadata": {},
   "outputs": [
    {
     "name": "stdout",
     "output_type": "stream",
     "text": [
      "Number found at index 4 using binary search\n",
      "Number found at index 4 using linear search\n"
     ]
    }
   ],
   "source": [
    "def linear_search(numbers_list, number_to_find):\n",
    "    for index, element in enumerate(numbers_list):\n",
    "        if element == number_to_find:\n",
    "            return index\n",
    "    return -1\n",
    "\n",
    "\n",
    "def binary_search(numbers_list, number_to_find):\n",
    "    left_index = 0\n",
    "    right_index = len(numbers_list) - 1\n",
    "    mid_index = 0\n",
    "\n",
    "    while left_index <= right_index:\n",
    "        mid_index = (left_index + right_index) // 2\n",
    "        mid_number = numbers_list[mid_index]\n",
    "\n",
    "        if mid_number == number_to_find:\n",
    "            return mid_index\n",
    "\n",
    "        if mid_number < number_to_find:\n",
    "            left_index = mid_index + 1\n",
    "        else:\n",
    "            right_index = mid_index - 1\n",
    "\n",
    "    return -1\n",
    "\n",
    "def binary_search_recursive(numbers_list, number_to_find, left_index, right_index):\n",
    "    if right_index < left_index:\n",
    "        return -1\n",
    "\n",
    "    mid_index = (left_index + right_index) // 2\n",
    "    if mid_index >= len(numbers_list) or mid_index < 0:\n",
    "        return -1\n",
    "\n",
    "    mid_number = numbers_list[mid_index]\n",
    "\n",
    "    if mid_number == number_to_find:\n",
    "        return mid_index\n",
    "\n",
    "    if mid_number < number_to_find:\n",
    "        left_index = mid_index + 1\n",
    "    else:\n",
    "        right_index = mid_index - 1\n",
    "\n",
    "    return binary_search_recursive(numbers_list, number_to_find, left_index, right_index)\n",
    "\n",
    "if __name__ == '__main__':\n",
    "    numbers_list = [12, 15, 17, 19, 21, 24, 45, 67]\n",
    "    number_to_find = 21\n",
    "\n",
    "    index = binary_search_recursive(numbers_list, number_to_find, 0, len(numbers_list))\n",
    "    print(f\"Number found at index {index} using binary search\")\n",
    "    \n",
    "    index = linear_search(numbers_list,number_to_find)\n",
    "    print(f\"Number found at index {index} using linear search\")"
   ]
  },
  {
   "cell_type": "code",
   "execution_count": null,
   "metadata": {},
   "outputs": [],
   "source": []
  }
 ],
 "metadata": {
  "kernelspec": {
   "display_name": "Python 3",
   "language": "python",
   "name": "python3"
  },
  "language_info": {
   "codemirror_mode": {
    "name": "ipython",
    "version": 3
   },
   "file_extension": ".py",
   "mimetype": "text/x-python",
   "name": "python",
   "nbconvert_exporter": "python",
   "pygments_lexer": "ipython3",
   "version": "3.8.5"
  }
 },
 "nbformat": 4,
 "nbformat_minor": 4
}
