{
 "cells": [
  {
   "cell_type": "markdown",
   "metadata": {},
   "source": [
    "# Shell Sort"
   ]
  },
  {
   "cell_type": "code",
   "execution_count": 9,
   "metadata": {},
   "outputs": [
    {
     "name": "stdout",
     "output_type": "stream",
     "text": [
      "[4, 9, 11, 12, 17, 32, 34, 42, 45]\n"
     ]
    }
   ],
   "source": [
    "def shellsort(arr):\n",
    "    size = len(arr)\n",
    "    gap = size//2\n",
    "    \n",
    "    while gap>0:\n",
    "        for i in range(gap,size):\n",
    "            anchor = arr[i]\n",
    "            j=i\n",
    "            while j>= gap and arr[j-gap] > anchor:\n",
    "                arr[j] = arr[j-gap]\n",
    "                j-=gap\n",
    "            arr[j] = anchor\n",
    "        gap = gap//2\n",
    "\n",
    "if __name__==\"__main__\":\n",
    "    elements=[12,42,32,9,11,34,4,17,45]\n",
    "    shellsort(elements)\n",
    "    print(elements)"
   ]
  },
  {
   "cell_type": "markdown",
   "metadata": {},
   "source": [
    "# Selection Sort"
   ]
  },
  {
   "cell_type": "code",
   "execution_count": 22,
   "metadata": {},
   "outputs": [
    {
     "name": "stdout",
     "output_type": "stream",
     "text": [
      "[4, 9, 11, 12, 17, 32, 34, 42, 45]\n",
      "[1, 2, 6, 7, 9, 12, 17, 21, 23, 53, 61, 78, 89]\n",
      "[]\n",
      "[1, 5, 8, 9]\n",
      "[1, 3, 9, 12, 12, 34, 56, 234, 1300]\n",
      "[8, 12, 15, 23, 27, 53, 61, 78]\n",
      "[5]\n"
     ]
    }
   ],
   "source": [
    "def selectionsort(arr):\n",
    "    size = len(arr)\n",
    "    for i in range(size-1):\n",
    "        min_index = i\n",
    "        for j in range(min_index+1,size):\n",
    "            if arr[j] < arr[min_index]:\n",
    "                min_index = j\n",
    "                \n",
    "        if i != min_index:\n",
    "            arr[i],arr[min_index] = arr[min_index],arr[i]\n",
    "\n",
    "if __name__==\"__main__\":\n",
    "    elements = [12,42,32,9,11,34,4,17,45]\n",
    "    selectionsort(elements)\n",
    "    print(elements)\n",
    "    \n",
    "    tests = [\n",
    "        [89, 78, 61, 53, 23, 21, 17, 12, 9, 7, 6, 2, 1],\n",
    "        [],\n",
    "        [1,5,8,9],\n",
    "        [234,3,1,56,34,12,9,12,1300],\n",
    "        [78, 12, 15, 8, 61, 53, 23, 27],\n",
    "        [5]\n",
    "    ]\n",
    "    \n",
    "    for elements in tests:\n",
    "        selectionsort(elements)\n",
    "        print(elements)"
   ]
  },
  {
   "cell_type": "code",
   "execution_count": null,
   "metadata": {},
   "outputs": [],
   "source": []
  }
 ],
 "metadata": {
  "kernelspec": {
   "display_name": "Python 3",
   "language": "python",
   "name": "python3"
  },
  "language_info": {
   "codemirror_mode": {
    "name": "ipython",
    "version": 3
   },
   "file_extension": ".py",
   "mimetype": "text/x-python",
   "name": "python",
   "nbconvert_exporter": "python",
   "pygments_lexer": "ipython3",
   "version": "3.8.5"
  }
 },
 "nbformat": 4,
 "nbformat_minor": 4
}
