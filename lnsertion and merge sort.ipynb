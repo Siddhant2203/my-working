{
 "cells": [
  {
   "cell_type": "markdown",
   "metadata": {},
   "source": [
    "# Linear Sort"
   ]
  },
  {
   "cell_type": "code",
   "execution_count": 4,
   "metadata": {},
   "outputs": [
    {
     "name": "stdout",
     "output_type": "stream",
     "text": [
      "[3, 12, 21, 24, 32, 45]\n"
     ]
    }
   ],
   "source": [
    "def insertionsort(elements):\n",
    "    for i in range(1,len(elements)):\n",
    "        anchor = elements[i]\n",
    "        j=i-1\n",
    "        while j>=0 and anchor < elements[j]:\n",
    "            elements[j+1] = elements[j]\n",
    "            j = j-1\n",
    "        elements[j+1] = anchor\n",
    "    \n",
    "if __name__==\"__main__\":\n",
    "    elements = [21,32,3,45,12,24]\n",
    "    insertionsort(elements)\n",
    "    print(elements)"
   ]
  },
  {
   "cell_type": "markdown",
   "metadata": {},
   "source": [
    "# Merge Sort"
   ]
  },
  {
   "cell_type": "code",
   "execution_count": 11,
   "metadata": {},
   "outputs": [
    {
     "name": "stdout",
     "output_type": "stream",
     "text": [
      "[5, 7, 8, 9, 12, 45, 46, 51]\n"
     ]
    }
   ],
   "source": [
    "def mergesort(arr):\n",
    "    if len(arr) <= 1:\n",
    "        return arr\n",
    "    mid = len(arr)//2\n",
    "    left = arr[:mid]\n",
    "    right = arr[mid:]\n",
    "    \n",
    "    left = mergesort(left)\n",
    "    right = mergesort(right)\n",
    "    \n",
    "    return mergesorttwo(left,right)\n",
    "\n",
    "def mergesorttwo(a,b):\n",
    "    sorted_list = []\n",
    "    len_a = len(a)\n",
    "    len_b = len(b)\n",
    "    i = j = 0\n",
    "    \n",
    "    while i < len_a and j < len_b:\n",
    "        if a[i] <= b[j]:\n",
    "            sorted_list.append(a[i])\n",
    "            i += 1\n",
    "        else:\n",
    "            sorted_list.append(b[j])\n",
    "            j += 1\n",
    "    while i < len_a:\n",
    "        sorted_list.append(a[i])\n",
    "        i+=1\n",
    "    while j < len_b:\n",
    "        sorted_list.append(b[j])\n",
    "        j+=1\n",
    "    return sorted_list\n",
    "\n",
    "if __name__==\"__main__\":\n",
    "    arr = [5,8,12,46,7,9,45,51]\n",
    "    \n",
    "    print(mergesort(arr))"
   ]
  },
  {
   "cell_type": "code",
   "execution_count": null,
   "metadata": {},
   "outputs": [],
   "source": []
  }
 ],
 "metadata": {
  "kernelspec": {
   "display_name": "Python 3",
   "language": "python",
   "name": "python3"
  },
  "language_info": {
   "codemirror_mode": {
    "name": "ipython",
    "version": 3
   },
   "file_extension": ".py",
   "mimetype": "text/x-python",
   "name": "python",
   "nbconvert_exporter": "python",
   "pygments_lexer": "ipython3",
   "version": "3.8.5"
  }
 },
 "nbformat": 4,
 "nbformat_minor": 4
}
