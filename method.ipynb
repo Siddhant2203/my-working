{
 "cells": [
  {
   "cell_type": "markdown",
   "metadata": {},
   "source": [
    "# @classmethod and @staticmethod"
   ]
  },
  {
   "cell_type": "code",
   "execution_count": 8,
   "metadata": {},
   "outputs": [
    {
     "name": "stdout",
     "output_type": "stream",
     "text": [
      "21\n",
      "11\n",
      "ELigible for voting: False\n"
     ]
    }
   ],
   "source": [
    "from datetime import date\n",
    "class person:\n",
    "    def __init__(self,name,age):\n",
    "        self.name = name\n",
    "        self.age = age\n",
    "    \n",
    "    @classmethod\n",
    "    def fromBirthyear(cls,name,year):\n",
    "        return cls(name,date.today().year-year)\n",
    "    \n",
    "    @staticmethod\n",
    "    def isAdult(age):\n",
    "        return age>18\n",
    "    \n",
    "person1 = person(\"mayank\",21)\n",
    "person2 = person.fromBirthyear(\"mayank\",2010)\n",
    "\n",
    "print(person1.age)\n",
    "print(person2.age)\n",
    "\n",
    "print(\"ELigible for voting:\",person.isAdult(person2.age))"
   ]
  },
  {
   "cell_type": "code",
   "execution_count": 9,
   "metadata": {},
   "outputs": [
    {
     "name": "stdout",
     "output_type": "stream",
     "text": [
      "Enter your name:Samar\n",
      "Enter your birth year:1998\n",
      "Your name is: Samar\n",
      "your age is: 23\n",
      "Eligible for voting: True\n"
     ]
    }
   ],
   "source": [
    "from datetime import date\n",
    "\n",
    "class voters:\n",
    "    def __init__(self,name,age):\n",
    "        self.name = name\n",
    "        self.age = age\n",
    "        \n",
    "    @classmethod\n",
    "    def birthdate(cls,name,year):\n",
    "        return cls(name,date.today().year - year)\n",
    "    \n",
    "    @staticmethod\n",
    "    def isVoter(age):\n",
    "        return age>18\n",
    "    \n",
    "    \n",
    "name = input(\"Enter your name:\")\n",
    "age = int(input(\"Enter your birth year:\"))\n",
    "\n",
    "voter1 = voters.birthdate(name,age)\n",
    "\n",
    "print(\"Your name is:\",voter1.name)\n",
    "print(\"your age is:\",voter1.age)\n",
    "\n",
    "print(\"Eligible for voting:\",voters.isVoter(voter1.age))"
   ]
  },
  {
   "cell_type": "code",
   "execution_count": null,
   "metadata": {},
   "outputs": [],
   "source": []
  },
  {
   "cell_type": "code",
   "execution_count": null,
   "metadata": {},
   "outputs": [],
   "source": []
  }
 ],
 "metadata": {
  "kernelspec": {
   "display_name": "Python 3",
   "language": "python",
   "name": "python3"
  },
  "language_info": {
   "codemirror_mode": {
    "name": "ipython",
    "version": 3
   },
   "file_extension": ".py",
   "mimetype": "text/x-python",
   "name": "python",
   "nbconvert_exporter": "python",
   "pygments_lexer": "ipython3",
   "version": "3.8.5"
  }
 },
 "nbformat": 4,
 "nbformat_minor": 4
}
