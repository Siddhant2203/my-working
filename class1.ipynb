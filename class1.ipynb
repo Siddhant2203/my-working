{
 "cells": [
  {
   "cell_type": "markdown",
   "metadata": {},
   "source": [
    "# OOPS Concept 1"
   ]
  },
  {
   "cell_type": "code",
   "execution_count": 36,
   "metadata": {},
   "outputs": [
    {
     "name": "stdout",
     "output_type": "stream",
     "text": [
      "Enter your name:Mahi\n",
      "Enter your age:12\n",
      "Enter your class you reads in:7\n",
      "Enter your section as A,B,C,D:C\n"
     ]
    },
    {
     "data": {
      "text/plain": [
       "'Your Name is Mahi, age is 12 years, you read in class 7 and your section is C'"
      ]
     },
     "execution_count": 36,
     "metadata": {},
     "output_type": "execute_result"
    }
   ],
   "source": [
    "class student:\n",
    "    name = None\n",
    "    age  = None\n",
    "    std = None\n",
    "    section = None\n",
    "    def get_details():\n",
    "        return f\"Your Name is {name}, age is {age} years, you read in class {std} and your section is {section}\"\n",
    "   \n",
    "\n",
    "name = input(\"Enter your name:\")\n",
    "age = input(\"Enter your age:\")\n",
    "std = input(\"Enter your class you reads in:\")\n",
    "section = input(\"Enter your section as A,B,C,D:\")\n",
    "\n",
    "student.get_details()"
   ]
  },
  {
   "cell_type": "code",
   "execution_count": 53,
   "metadata": {},
   "outputs": [
    {
     "name": "stdout",
     "output_type": "stream",
     "text": [
      "Enter your name:Sam\n",
      "Enter your age:14\n",
      "Enter your class you reads in:7\n",
      "Enter your section as A,B,C,D:C\n",
      "Sam\n",
      "14\n"
     ]
    },
    {
     "data": {
      "text/plain": [
       "'Your Name is Sam, age is 14 years, you read in class 7 and your section is C'"
      ]
     },
     "execution_count": 53,
     "metadata": {},
     "output_type": "execute_result"
    }
   ],
   "source": [
    "class student:\n",
    "    def __init__(self,name,age,std,section):\n",
    "        self.name = name\n",
    "        self.age = age\n",
    "        self.std = std\n",
    "        self.section = section\n",
    "    def get_details():\n",
    "        return f\"Your Name is {name}, age is {age} years, you read in class {std} and your section is {section}\"\n",
    "   \n",
    "\n",
    "name = input(\"Enter your name:\")\n",
    "age = input(\"Enter your age:\")\n",
    "std = input(\"Enter your class you reads in:\")\n",
    "section = input(\"Enter your section as A,B,C,D:\")\n",
    "\n",
    "#student.get_details()\n",
    "\n",
    "student1 = student(name,age,std,section)\n",
    "\n",
    "\n",
    "print(student1.name)\n",
    "print(student1.age)\n",
    "student.get_details()"
   ]
  },
  {
   "cell_type": "code",
   "execution_count": null,
   "metadata": {},
   "outputs": [],
   "source": []
  }
 ],
 "metadata": {
  "kernelspec": {
   "display_name": "Python 3",
   "language": "python",
   "name": "python3"
  },
  "language_info": {
   "codemirror_mode": {
    "name": "ipython",
    "version": 3
   },
   "file_extension": ".py",
   "mimetype": "text/x-python",
   "name": "python",
   "nbconvert_exporter": "python",
   "pygments_lexer": "ipython3",
   "version": "3.8.5"
  }
 },
 "nbformat": 4,
 "nbformat_minor": 4
}
