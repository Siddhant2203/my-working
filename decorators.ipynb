{
 "cells": [
  {
   "cell_type": "markdown",
   "metadata": {},
   "source": [
    "# Decorators"
   ]
  },
  {
   "cell_type": "code",
   "execution_count": 4,
   "metadata": {},
   "outputs": [
    {
     "name": "stdout",
     "output_type": "stream",
     "text": [
      "Hello!, How are you?\n"
     ]
    }
   ],
   "source": [
    "def function1():\n",
    "    print(\"Hello!, How are you?\")\n",
    "    \n",
    "func2 = function1\n",
    "\n",
    "del function1\n",
    "\n",
    "func2()"
   ]
  },
  {
   "cell_type": "code",
   "execution_count": 7,
   "metadata": {},
   "outputs": [
    {
     "name": "stdout",
     "output_type": "stream",
     "text": [
      "<built-in function print>\n",
      "<class 'int'>\n"
     ]
    }
   ],
   "source": [
    "def funcret(num):\n",
    "    if num==0:\n",
    "        return print\n",
    "    if num==1:\n",
    "        return int\n",
    "    \n",
    "a = funcret(0)\n",
    "print(a)\n",
    "\n",
    "b = funcret(1)\n",
    "print(b)"
   ]
  },
  {
   "cell_type": "code",
   "execution_count": 9,
   "metadata": {},
   "outputs": [
    {
     "name": "stdout",
     "output_type": "stream",
     "text": [
      "Executing Now\n",
      "My name is Siddhant.\n",
      "Executed\n"
     ]
    }
   ],
   "source": [
    "def dec1(func1):\n",
    "    def nowexec():\n",
    "        print(\"Executing Now\")\n",
    "        func1()\n",
    "        print(\"Executed\")\n",
    "    return nowexec\n",
    "\n",
    "@dec1\n",
    "def my_name():\n",
    "    print(\"My name is Siddhant.\")\n",
    "    \n",
    "# my_name = dec1(my_name) ( instead of writing this we can use @ before defining the function my_name())\n",
    "\n",
    "my_name()"
   ]
  },
  {
   "cell_type": "code",
   "execution_count": 35,
   "metadata": {},
   "outputs": [
    {
     "name": "stdout",
     "output_type": "stream",
     "text": [
      "Enter first number:3\n",
      "Enter second number:4\n",
      "7\n",
      "That was the addition.\n",
      "Now you can see me.\n",
      "Lets do subtraction.\n",
      "-1\n",
      "7\n",
      "12\n",
      "-1\n"
     ]
    }
   ],
   "source": [
    "def round(num):\n",
    "    def add():\n",
    "        print(a+b)\n",
    "        num()\n",
    "    def sub():\n",
    "        print(a-b)\n",
    "    add()\n",
    "    sub()\n",
    "    \n",
    "a = int(input(\"Enter first number:\"))\n",
    "b = int(input(\"Enter second number:\"))\n",
    "    \n",
    "\n",
    "@round\n",
    "def name():\n",
    "    print(\"That was the addition.\")\n",
    "    print(\"Now you can see me.\")\n",
    "    print(\"Lets do subtraction.\")\n",
    "\n",
    "@round\n",
    "def mul():\n",
    "    print(a*b)\n",
    "    \n"
   ]
  },
  {
   "cell_type": "code",
   "execution_count": 38,
   "metadata": {},
   "outputs": [
    {
     "name": "stdout",
     "output_type": "stream",
     "text": [
      "<b><i><u>Hello World!</u></i></b>\n"
     ]
    }
   ],
   "source": [
    "def make_bold(fn):\n",
    "    def wrapper():\n",
    "        return \"<b>\" + fn() + \"</b>\"\n",
    "    return wrapper\n",
    "\n",
    "def make_italic(fn):\n",
    "    def wrapper():\n",
    "        return \"<i>\" + fn() + \"</i>\"\n",
    "    return wrapper\n",
    "\n",
    "def make_underline(fn):\n",
    "    def wrapper():\n",
    "        return \"<u>\" + fn() + \"</u>\"\n",
    "    return wrapper\n",
    "\n",
    "@make_bold\n",
    "@make_italic\n",
    "@make_underline\n",
    "\n",
    "def hello():\n",
    "    return \"Hello World!\"\n",
    "print(hello())"
   ]
  },
  {
   "cell_type": "code",
   "execution_count": null,
   "metadata": {},
   "outputs": [],
   "source": []
  }
 ],
 "metadata": {
  "kernelspec": {
   "display_name": "Python 3",
   "language": "python",
   "name": "python3"
  },
  "language_info": {
   "codemirror_mode": {
    "name": "ipython",
    "version": 3
   },
   "file_extension": ".py",
   "mimetype": "text/x-python",
   "name": "python",
   "nbconvert_exporter": "python",
   "pygments_lexer": "ipython3",
   "version": "3.8.5"
  }
 },
 "nbformat": 4,
 "nbformat_minor": 4
}
