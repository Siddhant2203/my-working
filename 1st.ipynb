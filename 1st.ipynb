{
 "cells": [
  {
   "cell_type": "code",
   "execution_count": 1,
   "metadata": {},
   "outputs": [
    {
     "name": "stdout",
     "output_type": "stream",
     "text": [
      "Hello and Welcome, Humonics!\n"
     ]
    }
   ],
   "source": [
    "my_name = \" Humonics\"\n",
    "print(\"Hello and Welcome,\"+ my_name+ \"!\")"
   ]
  },
  {
   "cell_type": "code",
   "execution_count": 2,
   "metadata": {},
   "outputs": [
    {
     "name": "stdout",
     "output_type": "stream",
     "text": [
      "5\n"
     ]
    }
   ],
   "source": [
    "# This program is for showing a comment\n",
    "# This program is for adding two nubers\n",
    "\n",
    "a = 3\n",
    "b = 2\n",
    "\n",
    "sum = a+b\n",
    "print(sum)"
   ]
  },
  {
   "cell_type": "code",
   "execution_count": 3,
   "metadata": {},
   "outputs": [
    {
     "name": "stdout",
     "output_type": "stream",
     "text": [
      "Enter first number:3\n",
      "Enter second number:4\n",
      "The sum of numbers entered by you is:  7\n"
     ]
    }
   ],
   "source": [
    "# This program is for taking inouts from users\n",
    "\n",
    "a = int(input(\"Enter first number:\"))\n",
    "b = int(input(\"Enter second number:\"))\n",
    "\n",
    "add = a+b\n",
    "print(\"The sum of numbers entered by you is: \",add)"
   ]
  },
  {
   "cell_type": "markdown",
   "metadata": {},
   "source": [
    "Data types\n",
    "\n",
    "There are 5 data types in python\n",
    "\n",
    "1. integer\n",
    "2. float\n",
    "3. complex\n",
    "4. string\n",
    "5. boolean"
   ]
  },
  {
   "cell_type": "markdown",
   "metadata": {},
   "source": [
    "Operators\n",
    "\n",
    "Tpyes of operators\n",
    "\n",
    "1. Arithmetic operators\n",
    "eg. +, -, *, / , % , //, ** etc.\n",
    "2. Assignment operators\n",
    "eg. =, +=, -= etc.\n",
    "3. Comparison operators\n",
    "eg. ==, !=, <, >, <=, >= etc.\n",
    "4. Logical operators\n",
    "eg. and,or,not\n",
    "5. Identity operators\n",
    "eg. is, is not\n",
    "6. Membership operators\n",
    "eg. in, not in\n",
    "7. Bitwise operators\n",
    "eg. &, |, <<, >>"
   ]
  },
  {
   "cell_type": "markdown",
   "metadata": {},
   "source": [
    "Conditional Statements\n",
    "\n",
    "There are 3 types of conditional operators in python\n",
    "\n",
    "1. if\n",
    "2. elif\n",
    "3. else"
   ]
  },
  {
   "cell_type": "code",
   "execution_count": 5,
   "metadata": {},
   "outputs": [
    {
     "name": "stdout",
     "output_type": "stream",
     "text": [
      "Enter a number:12\n"
     ]
    }
   ],
   "source": [
    "# Program for \"if\" conditional statement\n",
    "\n",
    "n = int(input(\"Enter a number:\"))\n",
    "\n",
    "if n%5==0:\n",
    "    print(True)"
   ]
  },
  {
   "cell_type": "code",
   "execution_count": 7,
   "metadata": {},
   "outputs": [
    {
     "name": "stdout",
     "output_type": "stream",
     "text": [
      "Enter a number:5\n",
      "Entered number is odd\n"
     ]
    }
   ],
   "source": [
    "# Program for \"elif\" conditional statement\n",
    "\n",
    "n = int(input(\"Enter a number:\"))\n",
    "\n",
    "if n%2 == 0:\n",
    "    print(\"Entered number is even\")\n",
    "elif n%2 != 0:\n",
    "    print(\"Entered number is odd\")"
   ]
  },
  {
   "cell_type": "code",
   "execution_count": 15,
   "metadata": {},
   "outputs": [
    {
     "name": "stdout",
     "output_type": "stream",
     "text": [
      "Enter your age:-19\n",
      "Sorry,You entered an invalid age.\n"
     ]
    }
   ],
   "source": [
    "# Program for \"else\" conditional statement\n",
    "\n",
    "Age = int(input(\"Enter your age:\"))\n",
    "\n",
    "if 1<Age <18:\n",
    "    print(\"Sorry! you are not eligible for vote.\")\n",
    "elif Age >=18 and Age<=100:\n",
    "    print(\"Yes, You are eligible for vote.\")\n",
    "else:\n",
    "    print(\"Sorry,You entered an invalid age.\")"
   ]
  },
  {
   "cell_type": "code",
   "execution_count": null,
   "metadata": {},
   "outputs": [],
   "source": []
  }
 ],
 "metadata": {
  "kernelspec": {
   "display_name": "Python 3",
   "language": "python",
   "name": "python3"
  },
  "language_info": {
   "codemirror_mode": {
    "name": "ipython",
    "version": 3
   },
   "file_extension": ".py",
   "mimetype": "text/x-python",
   "name": "python",
   "nbconvert_exporter": "python",
   "pygments_lexer": "ipython3",
   "version": "3.8.5"
  }
 },
 "nbformat": 4,
 "nbformat_minor": 4
}
