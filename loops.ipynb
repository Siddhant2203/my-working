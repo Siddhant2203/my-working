{
 "cells": [
  {
   "cell_type": "markdown",
   "metadata": {},
   "source": [
    "# LOOPS Exercise "
   ]
  },
  {
   "cell_type": "markdown",
   "metadata": {},
   "source": [
    "# for loop"
   ]
  },
  {
   "cell_type": "code",
   "execution_count": 16,
   "metadata": {},
   "outputs": [
    {
     "name": "stdout",
     "output_type": "stream",
     "text": [
      "Hello and Welcome,\n",
      "Humonics!\n"
     ]
    }
   ],
   "source": [
    "print(\"Hello and Welcome,\")\n",
    "print(\"Humonics!\")"
   ]
  },
  {
   "cell_type": "code",
   "execution_count": 17,
   "metadata": {},
   "outputs": [
    {
     "name": "stdout",
     "output_type": "stream",
     "text": [
      "Hello and Welcome, Humonics! "
     ]
    }
   ],
   "source": [
    "print(\"Hello and Welcome,\",end = \" \")\n",
    "print(\"Humonics!\",end = \" \")"
   ]
  },
  {
   "cell_type": "code",
   "execution_count": 18,
   "metadata": {},
   "outputs": [
    {
     "name": "stdout",
     "output_type": "stream",
     "text": [
      "samarrajpput2203@gmail.com\n"
     ]
    }
   ],
   "source": [
    "print(\"samarrajpput2203\",end = \"@\")\n",
    "print(\"gmail.com\")"
   ]
  },
  {
   "cell_type": "code",
   "execution_count": 20,
   "metadata": {},
   "outputs": [
    {
     "name": "stdout",
     "output_type": "stream",
     "text": [
      "Enter a number upto which you want to print natural numbers:9\n",
      "1, 2, 3, 4, 5, 6, 7, 8, 9, "
     ]
    }
   ],
   "source": [
    "# Program for \"for\" loop\n",
    "# Print First n natural numbers using while loop\n",
    "\n",
    "n = int(input(\"Enter a number upto which you want to print natural numbers:\"))\n",
    "\n",
    "for i in range(1,n+1):\n",
    "    print(i,end = \", \")"
   ]
  },
  {
   "cell_type": "code",
   "execution_count": 21,
   "metadata": {},
   "outputs": [
    {
     "name": "stdout",
     "output_type": "stream",
     "text": [
      "Enter a number upto which you want to print even numbers:14\n",
      "2, 4, 6, 8, 10, 12, 14, "
     ]
    }
   ],
   "source": [
    "# print first n even numbers\n",
    "\n",
    "n = int(input(\"Enter a number upto which you want to print even numbers:\"))\n",
    "\n",
    "for i in range(1,n+1):\n",
    "    if i%2==0:\n",
    "        print(i,end = \", \")"
   ]
  },
  {
   "cell_type": "code",
   "execution_count": 22,
   "metadata": {},
   "outputs": [
    {
     "name": "stdout",
     "output_type": "stream",
     "text": [
      "Enter a number upto which you want to print even numbers:6\n",
      "Sorry, it is an odd number.\n",
      "Oh,yes!, it is an even number.\n",
      "Sorry, it is an odd number.\n",
      "Oh,yes!, it is an even number.\n",
      "Sorry, it is an odd number.\n",
      "Oh,yes!, it is an even number.\n"
     ]
    }
   ],
   "source": [
    "n = int(input(\"Enter a number upto which you want to print even numbers:\"))\n",
    "\n",
    "for i in range(1,n+1):\n",
    "    if i%2==0:\n",
    "        print(\"Oh,yes!, it is an even number.\")\n",
    "    else:\n",
    "        print(\"Sorry, it is an odd number.\")"
   ]
  },
  {
   "cell_type": "markdown",
   "metadata": {},
   "source": [
    "Print the following pattern\n",
    "\n",
    "1 \n",
    "\n",
    "1 2 \n",
    "\n",
    "1 2 3 \n",
    "\n",
    "1 2 3 4 \n",
    "\n",
    "1 2 3 4 5"
   ]
  },
  {
   "cell_type": "code",
   "execution_count": 23,
   "metadata": {},
   "outputs": [
    {
     "name": "stdout",
     "output_type": "stream",
     "text": [
      "Enter a number of rows:5\n",
      "1  \n",
      "1 2  \n",
      "1 2 3  \n",
      "1 2 3 4  \n",
      "1 2 3 4 5  \n"
     ]
    }
   ],
   "source": [
    "n = int(input(\"Enter a number of rows:\"))\n",
    "\n",
    "for i in range(1,n+1):\n",
    "    for j in range(1,i+1):\n",
    "        print(j,end = \" \")\n",
    "    print(\" \")"
   ]
  },
  {
   "cell_type": "markdown",
   "metadata": {},
   "source": [
    "Given a list iterate it and display numbers which are divisible by 5 and if you find number greater than 150 stop the loop iteration\n",
    "\n",
    "list1 = [12, 15, 32, 42, 55, 75, 122, 132, 150, 180, 200]"
   ]
  },
  {
   "cell_type": "code",
   "execution_count": 24,
   "metadata": {},
   "outputs": [
    {
     "name": "stdout",
     "output_type": "stream",
     "text": [
      "15\n",
      "55\n",
      "75\n",
      "150\n"
     ]
    }
   ],
   "source": [
    "list1 = [12, 15, 32, 42, 55, 75, 122, 132, 150, 180, 200]\n",
    "\n",
    "for item in list1:\n",
    "    if item>150:\n",
    "        break\n",
    "    if item%5==0:\n",
    "        print(item)"
   ]
  },
  {
   "cell_type": "markdown",
   "metadata": {},
   "source": [
    "Given a number count the total number of digits in a number\n",
    "\n",
    "For example, the number is 75869, so the output should be 5."
   ]
  },
  {
   "cell_type": "code",
   "execution_count": 25,
   "metadata": {},
   "outputs": [
    {
     "name": "stdout",
     "output_type": "stream",
     "text": [
      "Enter a number from which you want to print prime number:1\n",
      "Enter a number upto which you want to print prime number:19\n",
      "2, 3, 5, 7, 11, 13, 17, 19, "
     ]
    }
   ],
   "source": [
    "# Program to display all the prime numbers within a range\n",
    "\n",
    "start = int(input(\"Enter a number from which you want to print prime number:\"))\n",
    "end = int(input(\"Enter a number upto which you want to print prime number:\"))\n",
    "\n",
    "for num in range(start,end+1):\n",
    "    if num > 1:\n",
    "        for i in range(2,num):\n",
    "            if num % i ==0:\n",
    "                break\n",
    "        else:\n",
    "            print(num,end = \", \")"
   ]
  },
  {
   "cell_type": "markdown",
   "metadata": {},
   "source": [
    "# while loop"
   ]
  },
  {
   "cell_type": "code",
   "execution_count": 26,
   "metadata": {},
   "outputs": [
    {
     "name": "stdout",
     "output_type": "stream",
     "text": [
      "Enter a number of any digit:23456789\n",
      "The number of digits are: 8\n"
     ]
    }
   ],
   "source": [
    "# program for \"while\" loop \n",
    "num = int(input(\"Enter a number of any digit:\"))\n",
    "count = 0\n",
    "\n",
    "while num != 0:\n",
    "    num//=10\n",
    "    count += 1\n",
    "print(\"The number of digits are:\",count)"
   ]
  },
  {
   "cell_type": "code",
   "execution_count": 31,
   "metadata": {},
   "outputs": [
    {
     "name": "stdout",
     "output_type": "stream",
     "text": [
      "Enter any number:5\n",
      "1, 2, 3, 4, 5, "
     ]
    }
   ],
   "source": [
    "n = int(input(\"Enter any number:\"))\n",
    "count = 0\n",
    "\n",
    "while count<n:\n",
    "    count += 1\n",
    "    print(count,end = \", \")"
   ]
  },
  {
   "cell_type": "code",
   "execution_count": null,
   "metadata": {},
   "outputs": [],
   "source": []
  }
 ],
 "metadata": {
  "kernelspec": {
   "display_name": "Python 3",
   "language": "python",
   "name": "python3"
  },
  "language_info": {
   "codemirror_mode": {
    "name": "ipython",
    "version": 3
   },
   "file_extension": ".py",
   "mimetype": "text/x-python",
   "name": "python",
   "nbconvert_exporter": "python",
   "pygments_lexer": "ipython3",
   "version": "3.8.5"
  }
 },
 "nbformat": 4,
 "nbformat_minor": 4
}
