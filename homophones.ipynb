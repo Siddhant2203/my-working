{
 "cells": [
  {
   "cell_type": "code",
   "execution_count": 2,
   "metadata": {},
   "outputs": [
    {
     "name": "stdout",
     "output_type": "stream",
     "text": [
      "Enter the value you want:double u\n",
      "W\n"
     ]
    }
   ],
   "source": [
    "dict1 = {'one':['won'],\n",
    "         'two':['to','too'],\n",
    "         'three':['tree','threw'],\n",
    "         'four':['for','fore','fur'],\n",
    "         'five':['fir'],\n",
    "         'six':['sics','cees'],\n",
    "         'eight':['ait','ate'],\n",
    "         'nine':['mine'],\n",
    "         'zero':['xero','hero'],\n",
    "         'A':['pay','hey'],\n",
    "         'B':['be','bee'],\n",
    "         'C':['sea','see','cee'],\n",
    "         'D':['dee'],\n",
    "         'E':['he'],\n",
    "         'F':['elf'],\n",
    "         'G':['gee'],\n",
    "         'I':['aye','eye'],\n",
    "         'J':['jay'],\n",
    "         'K':['cake'],\n",
    "         'L':['hell'],\n",
    "         'M':['hem'],\n",
    "         'N':['end'],\n",
    "         'O':['oh','owe'],\n",
    "         'P':['pea','pee'],\n",
    "         'Q':['cue','queue'],\n",
    "         'R':['ah'],\n",
    "         'T':['tea','tee'],\n",
    "         'U':['you','yew'],\n",
    "         'W':['double u'],\n",
    "         'X':['ex'],\n",
    "         'Y':['why'],\n",
    "         'Z':['zed']}  \n",
    "\n",
    "def homophones(sample_dict,value1):\n",
    "    li1 = list(sample_dict.values())\n",
    "    li2 = list(sample_dict.keys())\n",
    "    for value in li1:\n",
    "        if value1 in value:\n",
    "            n = li1.index(value)\n",
    "            break\n",
    "    print(li2[n])\n",
    "        \n",
    "        \n",
    "value = input(\"Enter the value you want:\")        \n",
    "homophones(dict1,value)"
   ]
  },
  {
   "cell_type": "code",
   "execution_count": null,
   "metadata": {},
   "outputs": [],
   "source": []
  }
 ],
 "metadata": {
  "kernelspec": {
   "display_name": "Python 3",
   "language": "python",
   "name": "python3"
  },
  "language_info": {
   "codemirror_mode": {
    "name": "ipython",
    "version": 3
   },
   "file_extension": ".py",
   "mimetype": "text/x-python",
   "name": "python",
   "nbconvert_exporter": "python",
   "pygments_lexer": "ipython3",
   "version": "3.8.5"
  }
 },
 "nbformat": 4,
 "nbformat_minor": 4
}
